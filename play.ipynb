{
 "cells": [
  {
   "cell_type": "code",
   "execution_count": 1,
   "metadata": {},
   "outputs": [],
   "source": [
    "from RL.rl_env_2 import bending_env\n",
    "from calc_init_param import calc_next_param\n",
    "import subprocess\n",
    "import os"
   ]
  },
  {
   "cell_type": "code",
   "execution_count": 2,
   "metadata": {},
   "outputs": [],
   "source": [
    "# Some fixed parameter\n",
    "strip_length = 40\n",
    "pre_length = 0.1\n",
    "k = 0.05"
   ]
  },
  {
   "cell_type": "code",
   "execution_count": 3,
   "metadata": {},
   "outputs": [
    {
     "name": "stdout",
     "output_type": "stream",
     "text": [
      "[321.09783027037633, 4.34828737170004, 0.0, 0.0, -0.0, 0.013754938346564827]\n"
     ]
    }
   ],
   "source": [
    "next_param, idx = calc_next_param(\"/data/mould_output/\" + \"test0\", 4, strip_length, pre_length, k, 0)\n",
    "print(next_param)"
   ]
  },
  {
   "cell_type": "code",
   "execution_count": 4,
   "metadata": {},
   "outputs": [
    {
     "name": "stdout",
     "output_type": "stream",
     "text": [
      "Abaqus Error: The following file(s) could not be located: c:\\Optimizing_bending_parameter\\data\\model\\test0_ep1\\simulation\\script_create_model_Step-1.py, c:\\Optimizing_bending_parameter\\data\\model\\test0_ep1\\simulation\\script_create_model_Step-1.pyc\n",
      "\n",
      "\n",
      "abaqus脚本执行成功\n"
     ]
    }
   ],
   "source": [
    "recursion_path = \"/Optimizing_bending_parameter/data/model/test0_ep1\"\n",
    "recursion_path = os.path.abspath(recursion_path)\n",
    "step_name = \"Step-1\"\n",
    "p = subprocess.Popen(\n",
    "        [\"cmd\", \"/c\", \"abaqus\", \"cae\", f\"noGUI={os.path.join(recursion_path, 'script_create_model_{}'.format(step_name))}\"],\n",
    "        cwd=recursion_path,\n",
    "        stderr=subprocess.PIPE,\n",
    "        stdout=subprocess.PIPE,\n",
    "    )\n",
    "try:\n",
    "    outs, errs = p.communicate(timeout=2400)\n",
    "    print(outs.decode(\"utf-8\"))\n",
    "    print(errs.decode(\"utf-8\"))\n",
    "    print(\"abaqus脚本执行成功\")\n",
    "except TimeoutError:\n",
    "    p.kill()\n",
    "    print(\"abaqus脚本运行失败，请检查代码\")\n",
    "    exit(-1)"
   ]
  },
  {
   "cell_type": "code",
   "execution_count": 4,
   "metadata": {},
   "outputs": [
    {
     "name": "stdout",
     "output_type": "stream",
     "text": [
      "test0_ep1\n",
      "gen_abaqus_model_step.py Success\n",
      "Successfully generated stress collection script for test0_ep1\n",
      "Stress collection success\n",
      "1512\n",
      "data cleaning finished\n",
      "You are currently at: tensor([321.1000,   0.0000,   0.0000])\n",
      "gen_abaqus_model_step.py Success\n",
      "Successfully generated stress collection script for test0_ep1\n",
      "Stress collection success\n",
      "1512\n",
      "data cleaning finished\n"
     ]
    },
    {
     "ename": "UnboundLocalError",
     "evalue": "local variable 'x' referenced before assignment",
     "output_type": "error",
     "traceback": [
      "\u001b[1;31m---------------------------------------------------------------------------\u001b[0m",
      "\u001b[1;31mUnboundLocalError\u001b[0m                         Traceback (most recent call last)",
      "Cell \u001b[1;32mIn[4], line 6\u001b[0m\n\u001b[0;32m      4\u001b[0m \u001b[39mprint\u001b[39m(\u001b[39m\"\u001b[39m\u001b[39mYou are currently at: \u001b[39m\u001b[39m{}\u001b[39;00m\u001b[39m\"\u001b[39m\u001b[39m.\u001b[39mformat(env\u001b[39m.\u001b[39mstate))\n\u001b[0;32m      5\u001b[0m action \u001b[39m=\u001b[39m \u001b[39mfloat\u001b[39m(\u001b[39minput\u001b[39m(\u001b[39m\"\u001b[39m\u001b[39mChoose your next action\u001b[39m\u001b[39m\"\u001b[39m))\n\u001b[1;32m----> 6\u001b[0m state, reward, done, springback \u001b[39m=\u001b[39m env\u001b[39m.\u001b[39;49mstep(action)\n\u001b[0;32m      7\u001b[0m \u001b[39mprint\u001b[39m(\u001b[39m\"\u001b[39m\u001b[39mStress cumulated in this step is \u001b[39m\u001b[39m{}\u001b[39;00m\u001b[39m\"\u001b[39m\u001b[39m.\u001b[39mformat(reward))\n\u001b[0;32m      8\u001b[0m \u001b[39mif\u001b[39;00m done:\n",
      "File \u001b[1;32mc:\\Optimizing_bending_parameter\\RL\\rl_env_2.py:132\u001b[0m, in \u001b[0;36mbending_env.step\u001b[1;34m(self, action)\u001b[0m\n\u001b[0;32m    129\u001b[0m stress_collection_script(data_path\u001b[39m=\u001b[39m\u001b[39mself\u001b[39m\u001b[39m.\u001b[39mdata_path_1\u001b[39m+\u001b[39m\u001b[39m\"\u001b[39m\u001b[39m/simulation/\u001b[39m\u001b[39m\"\u001b[39m, mould_name\u001b[39m=\u001b[39m\u001b[39mself\u001b[39m\u001b[39m.\u001b[39mmould_name, step\u001b[39m=\u001b[39m\u001b[39mself\u001b[39m\u001b[39m.\u001b[39mnum_step)\n\u001b[0;32m    131\u001b[0m \u001b[39m# Check if the episode is done and calculate the reward\u001b[39;00m\n\u001b[1;32m--> 132\u001b[0m reward \u001b[39m=\u001b[39m \u001b[39mself\u001b[39;49m\u001b[39m.\u001b[39;49mcalculate_reward()\n\u001b[0;32m    134\u001b[0m \u001b[39mif\u001b[39;00m \u001b[39mself\u001b[39m\u001b[39m.\u001b[39mpre_idx \u001b[39m==\u001b[39m \u001b[39m1999\u001b[39m:    \n\u001b[0;32m    135\u001b[0m     springback \u001b[39m=\u001b[39m \u001b[39mself\u001b[39m\u001b[39m.\u001b[39mget_springback()\n",
      "File \u001b[1;32mc:\\Optimizing_bending_parameter\\RL\\rl_env_2.py:148\u001b[0m, in \u001b[0;36mbending_env.calculate_reward\u001b[1;34m(self)\u001b[0m\n\u001b[0;32m    142\u001b[0m \u001b[39m\u001b[39m\u001b[39m'''\u001b[39;00m\n\u001b[0;32m    143\u001b[0m \u001b[39m    stress_dist: tensor\u001b[39;00m\n\u001b[0;32m    144\u001b[0m \u001b[39m    Reward is given by the sum of increase of stress on each element (for now)\u001b[39;00m\n\u001b[0;32m    145\u001b[0m \u001b[39m    better representation?\u001b[39;00m\n\u001b[0;32m    146\u001b[0m \u001b[39m'''\u001b[39;00m\n\u001b[0;32m    147\u001b[0m pre_stress_dist \u001b[39m=\u001b[39m \u001b[39mself\u001b[39m\u001b[39m.\u001b[39mstress_dist\n\u001b[1;32m--> 148\u001b[0m \u001b[39mself\u001b[39m\u001b[39m.\u001b[39mstress_dist \u001b[39m=\u001b[39m \u001b[39mself\u001b[39;49m\u001b[39m.\u001b[39;49mstress_extract()\n\u001b[0;32m    149\u001b[0m reward \u001b[39m=\u001b[39m \u001b[39msum\u001b[39m(\u001b[39mself\u001b[39m\u001b[39m.\u001b[39mstress_dist \u001b[39m-\u001b[39m pre_stress_dist)\n\u001b[0;32m    150\u001b[0m \u001b[39mreturn\u001b[39;00m reward\n",
      "File \u001b[1;32mc:\\Optimizing_bending_parameter\\RL\\rl_env_2.py:191\u001b[0m, in \u001b[0;36mbending_env.stress_extract\u001b[1;34m(self)\u001b[0m\n\u001b[0;32m    189\u001b[0m     x \u001b[39m=\u001b[39m df[\u001b[39m\"\u001b[39m\u001b[39mS_Mises\u001b[39m\u001b[39m\"\u001b[39m]\n\u001b[0;32m    190\u001b[0m     x \u001b[39m=\u001b[39m torch\u001b[39m.\u001b[39mtensor(x, dtype\u001b[39m=\u001b[39mtorch\u001b[39m.\u001b[39mfloat32)\n\u001b[1;32m--> 191\u001b[0m \u001b[39mreturn\u001b[39;00m x\n",
      "\u001b[1;31mUnboundLocalError\u001b[0m: local variable 'x' referenced before assignment"
     ]
    }
   ],
   "source": [
    "env = bending_env()\n",
    "while True:\n",
    "    env.reset()\n",
    "    print(\"You are currently at: {}\".format(env.state))\n",
    "    action = float(input(\"Choose your next action\"))\n",
    "    state, reward, done, springback = env.step(action)\n",
    "    print(\"Stress cumulated in this step is {}\".format(reward))\n",
    "    if done:\n",
    "        break\n",
    "print(\"Final score for this episode is {}\".format(springback))"
   ]
  }
 ],
 "metadata": {
  "kernelspec": {
   "display_name": "Python 3.8.19 ('bending_parameter')",
   "language": "python",
   "name": "python3"
  },
  "language_info": {
   "codemirror_mode": {
    "name": "ipython",
    "version": 3
   },
   "file_extension": ".py",
   "mimetype": "text/x-python",
   "name": "python",
   "nbconvert_exporter": "python",
   "pygments_lexer": "ipython3",
   "version": "3.8.19"
  },
  "orig_nbformat": 4,
  "vscode": {
   "interpreter": {
    "hash": "bb5682a02b22986d5da7cf5ad9a87df9e6aaf685707959f756f6733e237bfd4f"
   }
  }
 },
 "nbformat": 4,
 "nbformat_minor": 2
}
